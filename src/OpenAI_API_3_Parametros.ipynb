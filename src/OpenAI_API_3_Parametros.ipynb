{
  "nbformat": 4,
  "nbformat_minor": 0,
  "metadata": {
    "colab": {
      "provenance": [],
      "authorship_tag": "ABX9TyPXqZks4BwZGbvi6qni2AL0",
      "include_colab_link": true
    },
    "kernelspec": {
      "name": "python3",
      "display_name": "Python 3"
    },
    "language_info": {
      "name": "python"
    }
  },
  "cells": [
    {
      "cell_type": "markdown",
      "metadata": {
        "id": "view-in-github",
        "colab_type": "text"
      },
      "source": [
        "<a href=\"https://colab.research.google.com/github/alarcon7a/openai-api-tutorial/blob/main/src/OpenAI_API_3_Parametros.ipynb\" target=\"_parent\"><img src=\"https://colab.research.google.com/assets/colab-badge.svg\" alt=\"Open In Colab\"/></a>"
      ]
    },
    {
      "cell_type": "code",
      "source": [
        "!pip install openai"
      ],
      "metadata": {
        "id": "0ua707S8oHGC"
      },
      "execution_count": null,
      "outputs": []
    },
    {
      "cell_type": "code",
      "execution_count": null,
      "metadata": {
        "id": "Pc7-P5VRn7VN"
      },
      "outputs": [],
      "source": [
        "# 2. Configuración inicial\n",
        "from openai import OpenAI, AzureOpenAI\n",
        "import os\n",
        "from IPython.display import display, Markdown"
      ]
    },
    {
      "cell_type": "code",
      "source": [
        "from google.colab import userdata\n",
        "\n",
        "api_key = userdata.get('OPENAI_API_KEY')\n",
        "client = OpenAI(api_key=api_key)  # Mejor usar variables de entorno"
      ],
      "metadata": {
        "id": "25B9ggAnp2Xm"
      },
      "execution_count": null,
      "outputs": []
    },
    {
      "cell_type": "code",
      "source": [
        "endpoint = userdata.get(\"AZURE_OPENAI_ENDPOINT\")\n",
        "api_key = userdata.get(\"AZURE_OPENAI_API_KEY\")\n",
        "\n",
        "client = AzureOpenAI(\n",
        "    azure_endpoint=endpoint,\n",
        "    api_key=api_key,\n",
        "    api_version=\"2024-02-01\",\n",
        ")"
      ],
      "metadata": {
        "id": "pbqS5xU1qMyT"
      },
      "execution_count": null,
      "outputs": []
    },
    {
      "cell_type": "markdown",
      "source": [
        "## temperature (float: 0-2)\n",
        "\n",
        "Controla la aleatoriedad de las respuestas. Valores más altos producen respuestas más creativas y diversas.\n",
        "\n",
        "- 0.0: Respuestas consistentes y deterministas\n",
        "- 0.5: Balance entre creatividad y consistencia\n",
        "- 1.0: Mayor creatividad y variabilidad\n",
        "- 2.0: Máxima aleatoriedad"
      ],
      "metadata": {
        "id": "R2ibhyntVf3H"
      }
    },
    {
      "cell_type": "code",
      "source": [
        "prompt = \"Genera un eslogan para una cafetería en la luna\"\n",
        "#prompt = \"las nubes estan algo grises, verdad?\"\n",
        "# Temperature baja (0.2)\n",
        "response_conservador = client.chat.completions.create(\n",
        "    model=\"gpt-4o-mini\",\n",
        "    messages=[{\"role\": \"user\", \"content\": prompt}],\n",
        "    temperature=0.2\n",
        ")\n",
        "\n",
        "# Temperature alta (1.8)\n",
        "response_creativo = client.chat.completions.create(\n",
        "    model=\"gpt-4o-mini\",\n",
        "    messages=[{\"role\": \"user\", \"content\": prompt}],\n",
        "    temperature=1.8\n",
        ")"
      ],
      "metadata": {
        "id": "7YTFNDITqr0w"
      },
      "execution_count": null,
      "outputs": []
    },
    {
      "cell_type": "code",
      "source": [
        "display(Markdown(response_conservador.choices[0].message.content))"
      ],
      "metadata": {
        "id": "nfesxyFsXGGj",
        "colab": {
          "base_uri": "https://localhost:8080/",
          "height": 46
        },
        "outputId": "1ccc380d-4a2d-426c-9810-bcc606ecc79e"
      },
      "execution_count": null,
      "outputs": [
        {
          "output_type": "display_data",
          "data": {
            "text/plain": [
              "<IPython.core.display.Markdown object>"
            ],
            "text/markdown": "\"¡Sabor celestial en cada sorbo, donde el café toca las estrellas!\""
          },
          "metadata": {}
        }
      ]
    },
    {
      "cell_type": "code",
      "source": [
        "display(Markdown(response_creativo.choices[0].message.content))"
      ],
      "metadata": {
        "id": "LzwTpC1DXMC-",
        "colab": {
          "base_uri": "https://localhost:8080/",
          "height": 46
        },
        "outputId": "4db682ac-f808-4a74-f8ab-a8a1f5870eba"
      },
      "execution_count": null,
      "outputs": [
        {
          "output_type": "display_data",
          "data": {
            "text/plain": [
              "<IPython.core.display.Markdown object>"
            ],
            "text/markdown": "\"Disfruta cada sorbo bajo miles de estrellas: Café en la Luna, donde tus sueños flotan.\""
          },
          "metadata": {}
        }
      ]
    },
    {
      "cell_type": "markdown",
      "source": [
        "## max_tokens (int)\n",
        "\n",
        "Define la longitud máxima de la respuesta en tokens.\n",
        "Un token ≈ 4 caracteres o 3/4 de palabra en inglés.\n",
        "\n",
        "Consideraciones:\n",
        "- Muy bajo (<50): Respuestas pueden quedar incompletas\n",
        "- Medio (100-500): Ideal para respuestas generales\n",
        "- Alto (>1000): Para generación de contenido extenso"
      ],
      "metadata": {
        "id": "0vyMtDClV191"
      }
    },
    {
      "cell_type": "code",
      "source": [
        "# Respuesta corta\n",
        "response_corta = client.chat.completions.create(\n",
        "    model=\"gpt-4o-mini\",\n",
        "    messages=[{\"role\": \"user\", \"content\": \"Describe un atardecer\"}],\n",
        "    max_tokens=50\n",
        ")\n",
        "\n",
        "# Respuesta larga\n",
        "response_larga = client.chat.completions.create(\n",
        "    model=\"gpt-4o-mini\",\n",
        "    messages=[{\"role\": \"user\", \"content\": \"Describe un atardecer\"}],\n",
        "    max_tokens=200\n",
        ")"
      ],
      "metadata": {
        "id": "z4A9g1rPa8_r"
      },
      "execution_count": null,
      "outputs": []
    },
    {
      "cell_type": "code",
      "source": [
        "print(response_corta.choices[0].message.content)\n",
        "print(100*'*')\n",
        "print(response_larga.choices[0].message.content)"
      ],
      "metadata": {
        "id": "S2ijwpLVbAJk",
        "colab": {
          "base_uri": "https://localhost:8080/"
        },
        "outputId": "cf84de7a-d234-4088-cf82-811317f0e82d"
      },
      "execution_count": null,
      "outputs": [
        {
          "output_type": "stream",
          "name": "stdout",
          "text": [
            "Un atardecer es un espectáculo natural que se produce cuando el sol desciende en el horizonte, marcando el final de un día y el inicio de la noche. Durante este momento, el cielo se viste de una paleta de colores vibr\n",
            "****************************************************************************************************\n",
            "Un atardecer es un momento mágico en el que el día se rinde ante la noche, pintando el cielo con una paleta de colores impresionantes. A medida que el sol desciende en el horizonte, las tonalidades de naranja, rosa, violeta y amarillo se entrelazan, creando un espectáculo visual que invita a la contemplación. \n",
            "\n",
            "La luz se vuelve más suave y dorada, iluminando el paisaje con un brillo cálido que transforma los contornos familiares en siluetas misteriosas. Los árboles, montañas y edificios se recortan contra el cielo ardiente, dotándolos de un aire casi místico.\n",
            "\n",
            "El aire se siente fresco, y a menudo se oye el susurro del viento entre las hojas y el canto lejano de las aves que regresan a sus nidos. Es un momento de tranquilidad y reflexión, donde la naturaleza parece detenerse por un instante para admirar su propia belleza. \n",
            "\n",
            "Con cada segundo que pasa,\n"
          ]
        }
      ]
    },
    {
      "cell_type": "markdown",
      "source": [
        "## top_p (float: 0-1)\n",
        "\n",
        "Nucleus sampling: controla la diversidad seleccionando tokens cuya probabilidad suma 'top_p'.\n",
        "\n",
        "- 0.1: Muy conservador, usa solo las palabras más probables\n",
        "- 0.5: Balance entre diversidad y precisión\n",
        "- 0.9: Mayor variabilidad en el vocabulario\n",
        "\n",
        "Nota: Generalmente se usa o 'temperature' o 'top_p', no ambos.\n",
        "Ejemplo de uso:\n",
        "top_p=0.9  # Permite respuestas variadas pero coherentes"
      ],
      "metadata": {
        "id": "AbZSnb1PV83W"
      }
    },
    {
      "cell_type": "code",
      "source": [
        "# Ejemplo con diferentes valores de top_p\n",
        "for top_p in [0.1, 0.5, 0.9]:\n",
        "    response = client.chat.completions.create(\n",
        "        model=\"gpt-4o-mini\",\n",
        "        messages=[{\"role\": \"user\", \"content\": \"Inventa un nombre para un robot filosofo y cual seria su frase insignia\"}],\n",
        "        top_p=top_p\n",
        "    )\n",
        "    print(f\"Top_p {top_p}: {response.choices[0].message.content}\")"
      ],
      "metadata": {
        "id": "27I4cy7jbQrm",
        "colab": {
          "base_uri": "https://localhost:8080/"
        },
        "outputId": "49f445cc-718f-4a2a-9890-31056f182c3a"
      },
      "execution_count": null,
      "outputs": [
        {
          "output_type": "stream",
          "name": "stdout",
          "text": [
            "Top_p 0.1: Nombre del robot filósofo: **Sofía 3000**\n",
            "\n",
            "Frase insignia: \"Cuestionar es el primer paso hacia la sabiduría.\"\n",
            "Top_p 0.5: Nombre del robot filósofo: **Sofía-9000**\n",
            "\n",
            "Frase insignia: \"En la búsqueda de la verdad, cada pregunta es un paso hacia la luz.\"\n",
            "Top_p 0.9: Nombre del robot filósofo: **Sofía-9**\n",
            "\n",
            "Frase insignia: \"Cuestionar es el primer paso hacia la verdad.\"\n"
          ]
        }
      ]
    },
    {
      "cell_type": "markdown",
      "source": [
        "## presence_penalty (float: -2.0 a 2.0)\n",
        "\n",
        "Penaliza la aparición de temas repetidos en el texto.\n",
        "\n",
        "- Negativo: Fomenta la repetición de temas\n",
        "- 0.0: Sin efecto\n",
        "- Positivo: Fomenta hablar de nuevos temas\n",
        "\n",
        "Ejemplo de uso:\n",
        "presence_penalty=0.6  # Fomenta diversidad temática"
      ],
      "metadata": {
        "id": "olWiuDljWRoy"
      }
    },
    {
      "cell_type": "markdown",
      "source": [
        "## frequency_penalty (float: -2.0 a 2.0)\n",
        "\n",
        "Penaliza la repetición de palabras exactas.\n",
        "\n",
        "- Negativo: Permite más repetición\n",
        "- 0.0: Sin efecto\n",
        "- Positivo: Fomenta uso de sinónimos y variación\n",
        "\n",
        "Ejemplo de uso:\n",
        "frequency_penalty=0.6  # Fomenta variedad léxica\n"
      ],
      "metadata": {
        "id": "9EjI2VexWc-V"
      }
    },
    {
      "cell_type": "code",
      "source": [
        "prompt_largo = \"Escribe un párrafo usando sinónimos de 'interesante' \"\n",
        "\n",
        "# Sin penalizaciones\n",
        "response_normal = client.chat.completions.create(\n",
        "    model=\"gpt-4o\",\n",
        "    messages=[{\"role\": \"user\", \"content\": prompt_largo}],\n",
        "    presence_penalty=-1.8,\n",
        "    frequency_penalty=-1.8\n",
        ")\n",
        "\n",
        "# Con penalizaciones\n",
        "response_variado = client.chat.completions.create(\n",
        "    model=\"gpt-4o\",\n",
        "    messages=[{\"role\": \"user\", \"content\": prompt_largo}],\n",
        "    presence_penalty=0.8,\n",
        "    frequency_penalty=0.8\n",
        ")"
      ],
      "metadata": {
        "id": "hmPeWRmeb1to"
      },
      "execution_count": null,
      "outputs": []
    },
    {
      "cell_type": "code",
      "source": [
        "display(Markdown(response_normal.choices[0].message.content))"
      ],
      "metadata": {
        "id": "vPALMNgrb5e2",
        "colab": {
          "base_uri": "https://localhost:8080/",
          "height": 359
        },
        "outputId": "1fc2a5c4-c79c-4473-82f1-873ecd23385e"
      },
      "execution_count": null,
      "outputs": [
        {
          "output_type": "display_data",
          "data": {
            "text/plain": [
              "<IPython.core.display.Markdown object>"
            ],
            "text/markdown": "El documental que vimos anoche resultó ser sumamente cautivador. La trama era tan absorbente que no pudimos apartar la vista de la pantalla. La manera en que se desarrollaron los acontecimientos era tan intrigante que cada minuto que pasaba se hacía más fascinante. La información que se presentó era tan enigmática que se que se que se que que que que que que que que que que que que que que que que que que que que que que que que que que que que que que que que que que que que que que que que que que que que que que que que que que que que que que que que que que que que que que que que que que que que que que que que que que que que que que que que que que que que que que que que que que que que que que que que que que que que que que que que que que que que que que que que que que que que que que que que que que que que que que que que que que que que que que que que que que que que que que que que que que que que que que que que que que que que que que que que que que que que que que que que que que que que que que que que que que que que que que que que que que que que que que que que que que que que que que que que que que que que que que que que que que que que que que que que que que que que que que que que que que que que que que que que que que que que que que que que que que que que que que que que que que que que que que que que que que que que que que que que que que que que que que que que que que que que que que que que que que que que que que que que que que que que que que que que que que que que que que que que que que que que que que que que que que que que que que que que que que que que que que que que que que que que que que que que que que que que que que que que que que que que que que que que que que que que que que que que que que que que que que que que que que que que que que que que que que que que que que que que que que que que que que que que que que que que que que que que que que que que que que que que que que que que que que que que que que que que que que que que que que que que que que que que que que que que que que que que que que que que que que que que que que que que que que que que que que que que que que que que que que que que que que que que que que que que que que que que que que que que que que que que que que que que que que que que que que que que que que que que que que que que que que que que que que que que que que que que que que que que que que que que que que que que que que que que que que que que que que que que que que que que que que que que que que que que que que que que que que que que que que que que que que que que que que que que que que que que que que que que que que que que que que que que que que que que que que que que"
          },
          "metadata": {}
        }
      ]
    },
    {
      "cell_type": "code",
      "source": [
        "display(Markdown(response_variado.choices[0].message.content))"
      ],
      "metadata": {
        "id": "9n7LPyF9b887",
        "colab": {
          "base_uri": "https://localhost:8080/",
          "height": 81
        },
        "outputId": "b6b3e7a6-f20e-44aa-af36-40f0c6cf1c05"
      },
      "execution_count": null,
      "outputs": [
        {
          "output_type": "display_data",
          "data": {
            "text/plain": [
              "<IPython.core.display.Markdown object>"
            ],
            "text/markdown": "El libro que estoy leyendo es realmente cautivador y fascinante. La trama se desarrolla de una manera muy envolvente, llena de giros sorprendentes que mantienen al lector totalmente absorto. Además, los personajes están tan bien elaborados y son tan complejos que hacen la historia aún más atrayente. Cada página ofrece algo sugestivo y llamativo, convirtiendo esta lectura en una experiencia sumamente atractiva e intrigante."
          },
          "metadata": {}
        }
      ]
    },
    {
      "cell_type": "markdown",
      "source": [
        "## n (int)\n",
        "\n",
        "Número de completions a generar para cada prompt.\n",
        "\n",
        "Útil para:\n",
        "- Obtener múltiples variaciones\n",
        "- Seleccionar la mejor respuesta\n",
        "- A/B testing\n",
        "\n",
        "Ejemplo de uso:\n",
        "n=3  # Genera 3 respuestas diferentes"
      ],
      "metadata": {
        "id": "_0IN_A1VWnks"
      }
    },
    {
      "cell_type": "code",
      "source": [
        "prompt_largo = \"Dame un posible nombre sobre un cuento infantil sobre un dragon y un samurai, el cuento debe promover luchar por los objetivos\"\n",
        "\n",
        "response = client.chat.completions.create(\n",
        "    model=\"gpt-4o-mini\",\n",
        "    messages=[{\"role\": \"user\", \"content\": prompt_largo}],\n",
        "    n = 3\n",
        ")"
      ],
      "metadata": {
        "id": "2jeC_a_Sekxj"
      },
      "execution_count": null,
      "outputs": []
    },
    {
      "cell_type": "code",
      "source": [
        "len(response.choices)"
      ],
      "metadata": {
        "id": "E08aPMScfMSh",
        "colab": {
          "base_uri": "https://localhost:8080/"
        },
        "outputId": "afd9454d-c6c8-4858-846b-87756e7fb712"
      },
      "execution_count": null,
      "outputs": [
        {
          "output_type": "execute_result",
          "data": {
            "text/plain": [
              "3"
            ]
          },
          "metadata": {},
          "execution_count": 13
        }
      ]
    },
    {
      "cell_type": "code",
      "source": [
        "for choice in response.choices:\n",
        "    print(choice.message.content)\n",
        "    print(100*'*')"
      ],
      "metadata": {
        "id": "A0843doXfR0y",
        "colab": {
          "base_uri": "https://localhost:8080/"
        },
        "outputId": "9e0d8370-c6f3-4a6e-8676-746595bbd001"
      },
      "execution_count": null,
      "outputs": [
        {
          "output_type": "stream",
          "name": "stdout",
          "text": [
            "Claro, un posible nombre para tu cuento infantil podría ser: **\"El Samurai y el Dragón: La Búsqueda de los Sueños\"**. Este título sugiere aventura y trabajo en equipo, al mismo tiempo que resalta la idea de luchar por alcanzar los objetivos.\n",
            "****************************************************************************************************\n",
            "Claro, un posible nombre para tu cuento infantil podría ser **\"El Dragón Valiente y el Samurai Soñador\"**. Este título sugiere una aventura emocionante entre los dos personajes y refleja el tema de luchar por los objetivos y los sueños.\n",
            "****************************************************************************************************\n",
            "Claro, un posible nombre para tu cuento infantil podría ser \"El Dragón Soñador y el Samurai Valiente\". Este título sugiere la historia de un dragón que tiene grandes sueños y un samurai que lo ayuda a luchar por ellos, lo que refleja la idea de perseverar y luchar por los objetivos.\n",
            "****************************************************************************************************\n"
          ]
        }
      ]
    },
    {
      "cell_type": "markdown",
      "source": [
        "## stop (string | array)\n",
        "\n",
        "Secuencias que detendrán la generación de texto.\n",
        "\n",
        "Útil para:\n",
        "- Control preciso de formato\n",
        "- Terminar generación en puntos específicos\n",
        "- Delimitar respuestas\n",
        "\n",
        "Ejemplo de uso:\n",
        "stop=[\".\", \"\\n\", \"Fin\"]  # Se detiene al encontrar cualquiera"
      ],
      "metadata": {
        "id": "b8PzQXndWy_7"
      }
    },
    {
      "cell_type": "code",
      "source": [
        "response = client.chat.completions.create(\n",
        "        model=\"gpt-4o-mini\",\n",
        "        messages=[{\n",
        "            \"role\": \"user\",\n",
        "            \"content\": \"Lista 10 nombres de colores. Enuméralos con números y punto, ejemplo: '1. Rojo'\"\n",
        "        }],\n",
        "        temperature=0.7,\n",
        "        stop=[\"6.\"]  # Se detendrá antes del sexto elemento\n",
        "    )"
      ],
      "metadata": {
        "id": "FZE0PZBZfk8-"
      },
      "execution_count": null,
      "outputs": []
    },
    {
      "cell_type": "code",
      "source": [
        "display(Markdown(response.choices[0].message.content))"
      ],
      "metadata": {
        "id": "ndQsPnnmf1W1",
        "colab": {
          "base_uri": "https://localhost:8080/",
          "height": 132
        },
        "outputId": "8ab76dfc-19d2-4a0a-c198-6379f1b99e59"
      },
      "execution_count": null,
      "outputs": [
        {
          "output_type": "display_data",
          "data": {
            "text/plain": [
              "<IPython.core.display.Markdown object>"
            ],
            "text/markdown": "1. Rojo  \n2. Azul  \n3. Verde  \n4. Amarillo  \n5. Naranja  \n"
          },
          "metadata": {}
        }
      ]
    },
    {
      "cell_type": "code",
      "source": [
        "response = client.chat.completions.create(\n",
        "    model=\"gpt-4o\",\n",
        "    messages=[{\n",
        "        \"role\": \"user\",\n",
        "        \"content\": \"Escribe una receta de cocina con ingredientes y pasos\"\n",
        "    }],\n",
        "    temperature=0.7,\n",
        ")\n",
        "display(Markdown(response.choices[0].message.content))"
      ],
      "metadata": {
        "id": "AME8vcoxjsJv",
        "colab": {
          "base_uri": "https://localhost:8080/",
          "height": 725
        },
        "outputId": "931c4183-daac-4ba1-a440-b7f2f283640c"
      },
      "execution_count": null,
      "outputs": [
        {
          "output_type": "display_data",
          "data": {
            "text/plain": [
              "<IPython.core.display.Markdown object>"
            ],
            "text/markdown": "Claro, aquí tienes una receta para un delicioso Pollo al Curry:\n\n**Ingredientes:**\n\n- 500 gramos de pechuga de pollo, cortada en cubos\n- 1 cebolla grande, finamente picada\n- 2 dientes de ajo, picados\n- 1 trozo de jengibre fresco (aproximadamente 2 cm), picado\n- 2 cucharadas de aceite vegetal\n- 2 cucharadas de pasta de curry (puedes usar curry rojo, verde o amarillo, según tu preferencia)\n- 400 ml de leche de coco\n- 1 taza de caldo de pollo\n- 1 zanahoria, en rodajas\n- 1 pimiento rojo, cortado en tiras\n- 1 papa, cortada en cubos\n- 1 taza de guisantes (opcional)\n- Sal y pimienta al gusto\n- Cilantro fresco, picado (para decorar)\n- Arroz blanco cocido (para acompañar)\n\n**Pasos:**\n\n1. **Preparar los ingredientes:** Asegúrate de que todos los ingredientes estén listos y a mano antes de comenzar a cocinar. Corta las pechugas de pollo en cubos, pica la cebolla, el ajo y el jengibre, y corta las verduras.\n\n2. **Sofreír el pollo:** En una sartén grande o en una cacerola, calienta el aceite vegetal a fuego medio-alto. Añade los cubos de pollo y sofríelos hasta que estén dorados por todos lados. Retira el pollo de la sartén y resérvalo.\n\n3. **Cocinar las verduras:** En la misma sartén, agrega un poco más de aceite si es necesario. Añade la cebolla picada y sofríe hasta que esté transparente. Luego, agrega el ajo y el jengibre picados y cocina por un minuto más, hasta que estén fragantes.\n\n4. **Añadir la pasta de curry:** Agrega la pasta de curry a la sartén y cocina por unos minutos, removiendo constantemente, hasta que se mezcle bien con las cebollas, el ajo y el jengibre.\n\n5. **Incorporar el pollo y los líquidos:** Vuelve a poner el pollo dorado en la sartén. Añade la leche de coco y el caldo de pollo. Remueve bien para que todo se mezcle.\n\n6. **Agregar las verduras:** Añade la zanahoria, el pimiento rojo y la papa a la sartén. Lleva la mezcla a ebullición, luego reduce el fuego y deja que se cocine a fuego lento durante unos 20-25 minutos, o hasta que las verduras estén tiernas y el pollo esté completamente cocido. Si decides añadir guisantes, agrégalos en los últimos 5 minutos de cocción.\n\n7. **Ajustar el sabor:** Prueba el curry y ajusta la sal y la pimienta según tu gusto. Si prefieres un curry más espeso, puedes dejarlo cocinar un poco más, o si lo prefieres más líquido, añade un poco más de caldo.\n\n8. **Servir:** Sirve el pollo al curry caliente, espolvoreado con cilantro fresco picado. Acompáñalo con arroz blanco cocido.\n\n¡Disfruta de tu delicioso Pollo al Curry!"
          },
          "metadata": {}
        }
      ]
    },
    {
      "cell_type": "code",
      "source": [
        "response = client.chat.completions.create(\n",
        "    model=\"gpt-4o\",\n",
        "    messages=[{\n",
        "        \"role\": \"user\",\n",
        "        \"content\": \"Escribe una receta de cocina con ingredientes y pasos\"\n",
        "    }],\n",
        "    temperature=0.7,\n",
        "    stop=[\"Notas:\", \"Consejos:\", \"Tiempo de preparación:\",\"Disfruta\"]\n",
        ")\n",
        "display(Markdown(response.choices[0].message.content))"
      ],
      "metadata": {
        "id": "XMNCfjehj-pa",
        "colab": {
          "base_uri": "https://localhost:8080/",
          "height": 723
        },
        "outputId": "f63f7f1e-de9e-4c3e-c4f2-c32b231fab9a"
      },
      "execution_count": null,
      "outputs": [
        {
          "output_type": "display_data",
          "data": {
            "text/plain": [
              "<IPython.core.display.Markdown object>"
            ],
            "text/markdown": "¡Claro! Aquí tienes una receta deliciosa y fácil de preparar: Pollo al horno con limón y hierbas.\n\n### Ingredientes:\n- 4 pechugas de pollo sin piel y sin hueso\n- 2 limones (uno en rodajas y otro para jugo)\n- 4 dientes de ajo, picados\n- 2 cucharadas de aceite de oliva\n- 1 cucharadita de tomillo seco\n- 1 cucharadita de romero seco\n- 1 cucharadita de orégano seco\n- Sal y pimienta al gusto\n- Perejil fresco picado para decorar\n\n### Instrucciones:\n\n1. **Precalentar el horno**:\n   - Precalienta el horno a 200°C (392°F).\n\n2. **Preparar el adobo**:\n   - En un bol pequeño, mezcla el ajo picado, el jugo de uno de los limones, el aceite de oliva, el tomillo, el romero, el orégano, la sal y la pimienta.\n\n3. **Marinar el pollo**:\n   - Coloca las pechugas de pollo en una fuente para horno.\n   - Vierte la mezcla del adobo sobre el pollo, asegurándote de que todas las piezas estén bien cubiertas.\n   - Deja marinar durante al menos 15 minutos para que el pollo absorba los sabores. Si tienes más tiempo, puedes marinarlo en el refrigerador durante 1-2 horas para un sabor más intenso.\n\n4. **Añadir el limón**:\n   - Corta el segundo limón en rodajas finas y colócalas sobre las pechugas de pollo marinadas.\n\n5. **Hornear**:\n   - Coloca la fuente con el pollo en el horno precalentado.\n   - Hornea durante 25-30 minutos, o hasta que el pollo esté bien cocido y dorado. Puedes verificar que esté listo cortando una pechuga y asegurándote de que los jugos salgan claros y no rosados.\n\n6. **Servir**:\n   - Saca el pollo del horno y deja reposar durante unos minutos.\n   - Espolvorea perejil fresco picado por encima para decorar.\n   - Sirve el pollo al horno con tus guarniciones favoritas, como arroz, ensalada o vegetales asados.\n\n¡"
          },
          "metadata": {}
        }
      ]
    },
    {
      "cell_type": "markdown",
      "source": [
        "# Ejemplos\n",
        "## Contenido creativo"
      ],
      "metadata": {
        "id": "oUM-wqM_yBHw"
      }
    },
    {
      "cell_type": "code",
      "source": [
        "def generar_contenido_creativo(prompt):\n",
        "    response = client.chat.completions.create(\n",
        "        model=\"gpt-4o-mini\",\n",
        "        messages=[{\"role\": \"user\", \"content\": prompt}],\n",
        "        temperature=1.5,\n",
        "        max_tokens=150,\n",
        "        presence_penalty=0.6,\n",
        "        frequency_penalty=0.6\n",
        "    )\n",
        "\n",
        "    return display(Markdown(response.choices[0].message.content))"
      ],
      "metadata": {
        "id": "VBkXwIJRyBzG"
      },
      "execution_count": null,
      "outputs": []
    },
    {
      "cell_type": "code",
      "source": [
        "generar_contenido_creativo('Dame un tweet con alto engagement que hable sobre el futuro de la inteligencia artificial')"
      ],
      "metadata": {
        "colab": {
          "base_uri": "https://localhost:8080/",
          "height": 64
        },
        "id": "Y41lc3EayIrJ",
        "outputId": "fb0d0cbf-65ee-4dec-8eb0-6407b1a097d1"
      },
      "execution_count": null,
      "outputs": [
        {
          "output_type": "display_data",
          "data": {
            "text/plain": [
              "<IPython.core.display.Markdown object>"
            ],
            "text/markdown": "🌐✨ \"El futuro de la inteligencia artificial no es solo sorprendente, ¡es transformador! 🤖❤️ Imagina un mundo donde los AI potencian la creatividad humana, revolucionan la medicina y aceleran nuestras capacidades en experimentar. ¿Estamos listos para aprovecharlo? 🚀 #AIRevolution #FuturoInteligente\""
          },
          "metadata": {}
        }
      ]
    },
    {
      "cell_type": "markdown",
      "source": [
        "## Conservador"
      ],
      "metadata": {
        "id": "9byCKh0gynpA"
      }
    },
    {
      "cell_type": "code",
      "source": [
        "def respuesta_tecnica(prompt):\n",
        "    response = client.chat.completions.create(\n",
        "        model=\"gpt-4o-mini\",\n",
        "        messages=[{\"role\": \"user\", \"content\": prompt}],\n",
        "        temperature=0.2,\n",
        "        max_tokens=200,\n",
        "        presence_penalty=0.1,\n",
        "        frequency_penalty=0.1\n",
        "    )\n",
        "    return display(Markdown(response.choices[0].message.content))"
      ],
      "metadata": {
        "id": "lRK6Zbj6yp4Z"
      },
      "execution_count": null,
      "outputs": []
    },
    {
      "cell_type": "code",
      "source": [
        "respuesta_tecnica('Dame una funcion para eliminar caracteres no ascii en python')"
      ],
      "metadata": {
        "colab": {
          "base_uri": "https://localhost:8080/",
          "height": 267
        },
        "id": "KI3nzYzdy_pl",
        "outputId": "1c62a76b-b159-460d-e99b-643ef5a407f2"
      },
      "execution_count": null,
      "outputs": [
        {
          "output_type": "display_data",
          "data": {
            "text/plain": [
              "<IPython.core.display.Markdown object>"
            ],
            "text/markdown": "Puedes utilizar la función `re.sub` del módulo `re` (expresiones regulares) para eliminar caracteres no ASCII de una cadena en Python. Aquí tienes un ejemplo de cómo hacerlo:\n\n```python\nimport re\n\ndef eliminar_no_ascii(texto):\n    # Reemplaza cualquier carácter que no sea ASCII (0-127) por una cadena vacía\n    return re.sub(r'[^\\x00-\\x7F]+', '', texto)\n\n# Ejemplo de uso\ntexto_original = \"Hola, esto es un texto con caracteres no ASCII: ñ, é, ü.\"\ntexto_limpio = eliminar_no_ascii(texto_original)\nprint(texto_limpio)  # Salida: \"Hola, esto es un texto con caracteres no ASCII: , , .\"\n```\n\nEn este código, la expresión regular `r'[^\\x00-\\x7F]+'` busca cualquier carácter que no esté en el rango ASCII (0-127) y lo reemplaza"
          },
          "metadata": {}
        }
      ]
    }
  ]
}
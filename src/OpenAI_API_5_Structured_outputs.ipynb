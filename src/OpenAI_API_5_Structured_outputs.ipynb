{
  "nbformat": 4,
  "nbformat_minor": 0,
  "metadata": {
    "colab": {
      "provenance": [],
      "authorship_tag": "ABX9TyPJB2o2YqjdbHL/RzVdfkLb",
      "include_colab_link": true
    },
    "kernelspec": {
      "name": "python3",
      "display_name": "Python 3"
    },
    "language_info": {
      "name": "python"
    }
  },
  "cells": [
    {
      "cell_type": "markdown",
      "metadata": {
        "id": "view-in-github",
        "colab_type": "text"
      },
      "source": [
        "<a href=\"https://colab.research.google.com/github/alarcon7a/openai-api-tutorial/blob/main/src/OpenAI_API_5_Structured_outputs.ipynb\" target=\"_parent\"><img src=\"https://colab.research.google.com/assets/colab-badge.svg\" alt=\"Open In Colab\"/></a>"
      ]
    },
    {
      "cell_type": "code",
      "source": [
        "%pip install --upgrade -q openai==1.59.9 pydantic==2.10.5"
      ],
      "metadata": {
        "id": "mq17rO-5pgA8"
      },
      "execution_count": null,
      "outputs": []
    },
    {
      "cell_type": "code",
      "execution_count": null,
      "metadata": {
        "id": "2fVlhzVwoZQX"
      },
      "outputs": [],
      "source": [
        "from openai import OpenAI, AzureOpenAI\n",
        "import os\n",
        "from IPython.display import display, Markdown"
      ]
    },
    {
      "cell_type": "code",
      "source": [
        "from google.colab import userdata\n",
        "\n",
        "api_key = userdata.get('OPENAI_API_KEY')\n",
        "client = OpenAI(api_key=api_key)  # Mejor usar variables de entorno\n"
      ],
      "metadata": {
        "id": "eaUmtgw1pmPD"
      },
      "execution_count": null,
      "outputs": []
    },
    {
      "cell_type": "code",
      "source": [
        "endpoint = userdata.get(\"AZURE_OPENAI_ENDPOINT\")\n",
        "api_key = userdata.get(\"AZURE_OPENAI_API_KEY\")\n",
        "\n",
        "client = AzureOpenAI(\n",
        "    azure_endpoint=endpoint,\n",
        "    api_key=api_key,\n",
        "    api_version=\"2024-12-01-preview\",\n",
        ")"
      ],
      "metadata": {
        "id": "0PTT77z9pnl9"
      },
      "execution_count": null,
      "outputs": []
    },
    {
      "cell_type": "code",
      "source": [
        "completion = client.chat.completions.create(\n",
        "    model=\"gpt-4o-mini\",\n",
        "    messages=[\n",
        "        {\n",
        "            \"role\": \"system\",\n",
        "            \"content\": \"Extrae la informacion del evento\"\n",
        "        },\n",
        "        {\n",
        "            \"role\": \"user\",\n",
        "            \"content\": \"Carlos y Diana van al gran cañon en Junio 15 del 2025\"\n",
        "        }\n",
        "    ]\n",
        ")\n",
        "display(Markdown(completion.choices[0].message.content))"
      ],
      "metadata": {
        "colab": {
          "base_uri": "https://localhost:8080/",
          "height": 81
        },
        "id": "G4VdhCIYsnRq",
        "outputId": "4899bd8d-d605-4db8-f612-60f16501e4f6"
      },
      "execution_count": null,
      "outputs": [
        {
          "output_type": "display_data",
          "data": {
            "text/plain": [
              "<IPython.core.display.Markdown object>"
            ],
            "text/markdown": "Evento: Visita al Gran Cañón  \nFecha: 15 de junio de 2025  \nParticipantes: Carlos y Diana  "
          },
          "metadata": {}
        }
      ]
    },
    {
      "cell_type": "code",
      "source": [
        "completion = client.chat.completions.create(\n",
        "    model=\"gpt-4o-mini\",\n",
        "    messages=[\n",
        "        {\n",
        "            \"role\": \"system\",\n",
        "            \"content\": \"Extrae la informacion del evento\"\n",
        "        },\n",
        "        {\n",
        "            \"role\": \"user\",\n",
        "            \"content\": \"Este viernes 20 de Enero de 2025, Hugo, paco y Luis, estaran en graduacion\"\n",
        "        }\n",
        "    ]\n",
        ")\n",
        "display(Markdown(completion.choices[0].message.content))"
      ],
      "metadata": {
        "colab": {
          "base_uri": "https://localhost:8080/",
          "height": 81
        },
        "id": "RqZ3wdtltWGW",
        "outputId": "2b3baadf-4d41-44ae-fce9-98c4e728751f"
      },
      "execution_count": null,
      "outputs": [
        {
          "output_type": "display_data",
          "data": {
            "text/plain": [
              "<IPython.core.display.Markdown object>"
            ],
            "text/markdown": "- **Fecha del evento:** Viernes 20 de enero de 2025\n- **Evento:** Graduación\n- **Participantes:** Hugo, Paco y Luis"
          },
          "metadata": {}
        }
      ]
    },
    {
      "cell_type": "markdown",
      "source": [
        "## Output format:"
      ],
      "metadata": {
        "id": "n14LZk-UuJSW"
      }
    },
    {
      "cell_type": "markdown",
      "source": [
        "### Ejemplo 1"
      ],
      "metadata": {
        "id": "VTdL21nFw6WQ"
      }
    },
    {
      "cell_type": "code",
      "source": [
        "from pydantic import BaseModel, Field"
      ],
      "metadata": {
        "id": "xPYpzrNNuL_r"
      },
      "execution_count": null,
      "outputs": []
    },
    {
      "cell_type": "code",
      "source": [
        "class CalendarEvent(BaseModel):\n",
        "    descripcion_evento: str\n",
        "    fecha: str\n",
        "    participantes: list[str]"
      ],
      "metadata": {
        "id": "MWPlsAAIuQ96"
      },
      "execution_count": null,
      "outputs": []
    },
    {
      "cell_type": "code",
      "source": [
        "def extract_info(text:str, response_format:BaseModel):\n",
        "    completion = client.beta.chat.completions.parse(\n",
        "        model=\"gpt-4o\",\n",
        "        messages=[\n",
        "            {\"role\": \"system\", \"content\": \"Extrae la informacion del evento\"},\n",
        "            {\"role\": \"user\", \"content\": text}\n",
        "        ],\n",
        "        response_format=response_format\n",
        "    )\n",
        "\n",
        "    return completion.choices[0].message.parsed"
      ],
      "metadata": {
        "id": "tQguBWACuUgZ"
      },
      "execution_count": null,
      "outputs": []
    },
    {
      "cell_type": "code",
      "source": [
        "calendar_1 = extract_info(\"Carlos y Diana van al gran cañon en Junio 15 del 2025\", CalendarEvent)\n",
        "calendar_1"
      ],
      "metadata": {
        "colab": {
          "base_uri": "https://localhost:8080/"
        },
        "id": "gNOMw9aau8dT",
        "outputId": "21b2bdd7-0871-4146-d944-f1f3e2339cc1"
      },
      "execution_count": null,
      "outputs": [
        {
          "output_type": "execute_result",
          "data": {
            "text/plain": [
              "CalendarEvent(descripcion_evento='Viaje al Gran Cañón', fecha='2025-06-15', participantes=['Carlos', 'Diana'])"
            ]
          },
          "metadata": {},
          "execution_count": 35
        }
      ]
    },
    {
      "cell_type": "code",
      "source": [
        "calendar_2 = extract_info(\"Este viernes 20 de Enero de 2025, Hugo, paco y Luis, estaran en graduacion\", CalendarEvent)\n",
        "calendar_2"
      ],
      "metadata": {
        "colab": {
          "base_uri": "https://localhost:8080/"
        },
        "id": "7pzot2Tlui8J",
        "outputId": "38896cdb-7061-411d-d9cb-f81dfd267fc8"
      },
      "execution_count": null,
      "outputs": [
        {
          "output_type": "execute_result",
          "data": {
            "text/plain": [
              "CalendarEvent(descripcion_evento='Graduación', fecha='2025-01-20', participantes=['Hugo', 'Paco', 'Luis'])"
            ]
          },
          "metadata": {},
          "execution_count": 36
        }
      ]
    },
    {
      "cell_type": "code",
      "source": [
        "calendar_1.model_dump()"
      ],
      "metadata": {
        "colab": {
          "base_uri": "https://localhost:8080/"
        },
        "id": "f3XbC3gWvPJR",
        "outputId": "4f88275f-c0a9-42c5-96af-0b4c4e718fb0"
      },
      "execution_count": null,
      "outputs": [
        {
          "output_type": "execute_result",
          "data": {
            "text/plain": [
              "{'descripcion_evento': 'Viaje al Gran Cañón',\n",
              " 'fecha': '2025-06-15',\n",
              " 'participantes': ['Carlos', 'Diana']}"
            ]
          },
          "metadata": {},
          "execution_count": 37
        }
      ]
    },
    {
      "cell_type": "code",
      "source": [
        "calendar_2.model_dump()"
      ],
      "metadata": {
        "colab": {
          "base_uri": "https://localhost:8080/"
        },
        "id": "NaNBll-dvqyK",
        "outputId": "5b60e81f-d522-4cd1-a045-ed953d1db8be"
      },
      "execution_count": null,
      "outputs": [
        {
          "output_type": "execute_result",
          "data": {
            "text/plain": [
              "{'descripcion_evento': 'Graduación',\n",
              " 'fecha': '2025-01-20',\n",
              " 'participantes': ['Hugo', 'Paco', 'Luis']}"
            ]
          },
          "metadata": {},
          "execution_count": 38
        }
      ]
    },
    {
      "cell_type": "markdown",
      "source": [
        "### Ejemplo 2"
      ],
      "metadata": {
        "id": "kEiQyXi3w3KS"
      }
    },
    {
      "cell_type": "code",
      "source": [
        "class Product(BaseModel):\n",
        "    name: str = Field(description=\"Nombre del producto\")\n",
        "    price: float = Field(description=\"El precio del producto\")\n",
        "    description: str = Field(description=\"Pequeña descripcion del producto\")\n",
        "    features: list[str] = Field(description=\"Una lista de las caracteristicas del producto\")"
      ],
      "metadata": {
        "id": "zjm2XBf4w45r"
      },
      "execution_count": null,
      "outputs": []
    },
    {
      "cell_type": "code",
      "source": [
        "def extract_product_info(text: str, response_format: BaseModel):\n",
        "    completion = client.beta.chat.completions.parse(\n",
        "        model=\"gpt-4o-mini\",\n",
        "        messages=[\n",
        "            {\"role\": \"system\", \"content\": \"Extrae la informacion del producto\"},\n",
        "            {\"role\": \"user\", \"content\": text}\n",
        "        ],\n",
        "        response_format=response_format\n",
        "    )\n",
        "    return completion.choices[0].message.parsed"
      ],
      "metadata": {
        "id": "b0IUMFLiw-IQ"
      },
      "execution_count": null,
      "outputs": []
    },
    {
      "cell_type": "code",
      "source": [
        "product_description = \"\"\"\n",
        "La increíble licuadora Blender 3000 es el compañero perfecto para tu cocina.\n",
        "Cuesta 129,99 dólares.\n",
        "Esta potente licuadora puede triturar hielo, preparar batidos y hacer deliciosas sopas.\n",
        "Incluye una cuchilla de acero inoxidable, un vaso de 2 litros y un panel de control digital.\n",
        "\"\"\"\n",
        "\n",
        "product_data = extract_product_info(product_description, Product)\n",
        "print(f\"Información del producto: {product_data}\")"
      ],
      "metadata": {
        "colab": {
          "base_uri": "https://localhost:8080/"
        },
        "id": "0ISlEWI5xBJi",
        "outputId": "f91dc642-ac57-452c-b02d-e3710565fd1a"
      },
      "execution_count": null,
      "outputs": [
        {
          "output_type": "stream",
          "name": "stdout",
          "text": [
            "Información del producto: name='Blender 3000' price=129.99 description='La increíble licuadora Blender 3000 es el compañero perfecto para tu cocina.' features=['Puede triturar hielo', 'Prepara batidos', 'Hace deliciosas sopas', 'Incluye cuchilla de acero inoxidable', 'Vaso de 2 litros', 'Panel de control digital']\n"
          ]
        }
      ]
    },
    {
      "cell_type": "code",
      "source": [
        "product_data.model_dump()"
      ],
      "metadata": {
        "colab": {
          "base_uri": "https://localhost:8080/"
        },
        "id": "oQUeD50IxHoz",
        "outputId": "5ef80035-c0b2-47bd-c222-717d665e2cef"
      },
      "execution_count": null,
      "outputs": [
        {
          "output_type": "execute_result",
          "data": {
            "text/plain": [
              "{'name': 'Blender 3000',\n",
              " 'price': 129.99,\n",
              " 'description': 'La increíble licuadora Blender 3000 es el compañero perfecto para tu cocina.',\n",
              " 'features': ['Puede triturar hielo',\n",
              "  'Prepara batidos',\n",
              "  'Hace deliciosas sopas',\n",
              "  'Incluye cuchilla de acero inoxidable',\n",
              "  'Vaso de 2 litros',\n",
              "  'Panel de control digital']}"
            ]
          },
          "metadata": {},
          "execution_count": 41
        }
      ]
    },
    {
      "cell_type": "markdown",
      "source": [
        "### Ejemplo 3"
      ],
      "metadata": {
        "id": "UGkh2Vj9yTDH"
      }
    },
    {
      "cell_type": "code",
      "source": [
        "from enum import Enum\n",
        "from typing import List\n",
        "from pydantic import BaseModel\n",
        "from openai import OpenAI\n",
        "\n",
        "\n",
        "class UIType(str, Enum):\n",
        "    div = \"div\"\n",
        "    button = \"button\"\n",
        "    header = \"header\"\n",
        "    section = \"section\"\n",
        "    field = \"field\"\n",
        "    form = \"form\"\n",
        "\n",
        "class Attribute(BaseModel):\n",
        "    name: str\n",
        "    value: str\n",
        "\n",
        "class UI(BaseModel):\n",
        "    type: UIType\n",
        "    label: str\n",
        "    children: List[\"UI\"]\n",
        "    attributes: List[Attribute]\n",
        "\n",
        "UI.model_rebuild() # This is required to enable recursive types\n",
        "\n",
        "class Response(BaseModel):\n",
        "    ui: UI\n",
        "\n",
        "completion = client.beta.chat.completions.parse(\n",
        "    model=\"gpt-4o\",\n",
        "    messages=[\n",
        "        {\"role\": \"system\", \"content\": \"You are a UI generator AI. Convert the user input into a UI.\"},\n",
        "        {\"role\": \"user\", \"content\": \"Make a User Profile Form\"}\n",
        "    ],\n",
        "    response_format=Response,\n",
        ")\n",
        "\n"
      ],
      "metadata": {
        "id": "DO5hApw_yUtS"
      },
      "execution_count": null,
      "outputs": []
    },
    {
      "cell_type": "code",
      "source": [
        "ui = completion.choices[0].message.parsed\n",
        "print(ui)"
      ],
      "metadata": {
        "colab": {
          "base_uri": "https://localhost:8080/"
        },
        "id": "nxWOYfjduelV",
        "outputId": "ace979eb-38b7-407b-e463-658e88d4b297"
      },
      "execution_count": null,
      "outputs": [
        {
          "output_type": "stream",
          "name": "stdout",
          "text": [
            "ui=UI(type=<UIType.form: 'form'>, label='User Profile Form', children=[UI(type=<UIType.field: 'field'>, label='Name', children=[], attributes=[Attribute(name='type', value='text'), Attribute(name='placeholder', value='Enter your name')]), UI(type=<UIType.field: 'field'>, label='Email', children=[], attributes=[Attribute(name='type', value='email'), Attribute(name='placeholder', value='Enter your email')]), UI(type=<UIType.field: 'field'>, label='Age', children=[], attributes=[Attribute(name='type', value='number'), Attribute(name='placeholder', value='Enter your age')]), UI(type=<UIType.button: 'button'>, label='Submit', children=[], attributes=[Attribute(name='type', value='submit')])], attributes=[])\n"
          ]
        }
      ]
    },
    {
      "cell_type": "code",
      "source": [
        "ui.model_dump()"
      ],
      "metadata": {
        "colab": {
          "base_uri": "https://localhost:8080/"
        },
        "id": "GWDbL-QUu42M",
        "outputId": "da1b2330-d91a-4226-b601-9ed2d867981d"
      },
      "execution_count": null,
      "outputs": [
        {
          "output_type": "execute_result",
          "data": {
            "text/plain": [
              "{'ui': {'type': <UIType.form: 'form'>,\n",
              "  'label': 'User Profile Form',\n",
              "  'children': [{'type': <UIType.field: 'field'>,\n",
              "    'label': 'Name',\n",
              "    'children': [],\n",
              "    'attributes': [{'name': 'type', 'value': 'text'},\n",
              "     {'name': 'placeholder', 'value': 'Enter your name'}]},\n",
              "   {'type': <UIType.field: 'field'>,\n",
              "    'label': 'Email',\n",
              "    'children': [],\n",
              "    'attributes': [{'name': 'type', 'value': 'email'},\n",
              "     {'name': 'placeholder', 'value': 'Enter your email'}]},\n",
              "   {'type': <UIType.field: 'field'>,\n",
              "    'label': 'Age',\n",
              "    'children': [],\n",
              "    'attributes': [{'name': 'type', 'value': 'number'},\n",
              "     {'name': 'placeholder', 'value': 'Enter your age'}]},\n",
              "   {'type': <UIType.button: 'button'>,\n",
              "    'label': 'Submit',\n",
              "    'children': [],\n",
              "    'attributes': [{'name': 'type', 'value': 'submit'}]}],\n",
              "  'attributes': []}}"
            ]
          },
          "metadata": {},
          "execution_count": 44
        }
      ]
    },
    {
      "cell_type": "markdown",
      "source": [
        "### Ejemplo 4"
      ],
      "metadata": {
        "id": "IGreuIrQw5x8"
      }
    },
    {
      "cell_type": "code",
      "source": [
        "class Step(BaseModel):\n",
        "    explanation: str\n",
        "    output: str\n",
        "\n",
        "class MathReasoning(BaseModel):\n",
        "    steps: list[Step]\n",
        "    final_answer: str\n",
        "\n",
        "def solve_math(problem:str, response_format:BaseModel):\n",
        "    completion = client.beta.chat.completions.parse(\n",
        "        model=\"gpt-4o\",\n",
        "        messages=[\n",
        "            {\"role\": \"system\", \"content\": \"Eres un excelente tutor de matematicas, guias al estudiante paso a paso en como resolver un problema matematico\"},\n",
        "            {\"role\": \"user\", \"content\": problem}\n",
        "        ],\n",
        "        response_format=response_format\n",
        "    )\n",
        "\n",
        "    return completion.choices[0].message.parsed\n",
        "\n",
        "problem = \"Como podria resolver esto: 8x + 7 = -23\"\n",
        "math_reasoning = solve_math(problem,MathReasoning)\n",
        "print(\"Math Reasoning:\", math_reasoning)"
      ],
      "metadata": {
        "colab": {
          "base_uri": "https://localhost:8080/"
        },
        "id": "Tpeltruxw5UL",
        "outputId": "170deb35-ded1-4de1-eb9a-9d3e05153cb4"
      },
      "execution_count": null,
      "outputs": [
        {
          "output_type": "stream",
          "name": "stdout",
          "text": [
            "Math Reasoning: steps=[Step(explanation='First, isolate the term containing the variable by subtracting 7 from both sides of the equation.', output='8x + 7 - 7 = -23 - 7'), Step(explanation='Simplify both sides of the equation.', output='8x = -30'), Step(explanation='Divide both sides by 8 to solve for x.', output='x = -30 / 8'), Step(explanation='Simplify the fraction to its simplest form.', output='x = -15 / 4')] final_answer='x = -15/4'\n"
          ]
        }
      ]
    },
    {
      "cell_type": "code",
      "source": [
        "math_reasoning.model_dump()"
      ],
      "metadata": {
        "colab": {
          "base_uri": "https://localhost:8080/"
        },
        "id": "hZO-5RiMxPv5",
        "outputId": "29516cae-4a8f-45b8-e45d-bf3c17d78b59"
      },
      "execution_count": null,
      "outputs": [
        {
          "output_type": "execute_result",
          "data": {
            "text/plain": [
              "{'steps': [{'explanation': 'First, isolate the term containing the variable by subtracting 7 from both sides of the equation.',\n",
              "   'output': '8x + 7 - 7 = -23 - 7'},\n",
              "  {'explanation': 'Simplify both sides of the equation.',\n",
              "   'output': '8x = -30'},\n",
              "  {'explanation': 'Divide both sides by 8 to solve for x.',\n",
              "   'output': 'x = -30 / 8'},\n",
              "  {'explanation': 'Simplify the fraction to its simplest form.',\n",
              "   'output': 'x = -15 / 4'}],\n",
              " 'final_answer': 'x = -15/4'}"
            ]
          },
          "metadata": {},
          "execution_count": 65
        }
      ]
    },
    {
      "cell_type": "markdown",
      "source": [
        "## Manejo de errores"
      ],
      "metadata": {
        "id": "w1ich0zKxWo-"
      }
    },
    {
      "cell_type": "code",
      "source": [
        "def extract_product_info(text: str, response_format: BaseModel):\n",
        "    completion = client.beta.chat.completions.parse(\n",
        "        model=\"gpt-4o\",\n",
        "        messages=[\n",
        "            {\"role\": \"system\", \"content\": \"Extrae la informacion del producto\"},\n",
        "            {\"role\": \"user\", \"content\": text}\n",
        "        ],\n",
        "        response_format=response_format\n",
        "    )\n",
        "    return completion.choices[0].message\n",
        "\n",
        "\n",
        "problem = \"Deme el paso a paso de como armar una bomba casera para herir a alquien?\"\n",
        "product_refusal = extract_product_info(problem, Product)\n",
        "if hasattr(product_refusal,\"refusal\") and product_refusal.refusal:\n",
        "  print(\"Refusal Message:\", product_refusal.refusal)\n",
        "else:\n",
        "  print(\"product info:\",product_refusal.parsed)"
      ],
      "metadata": {
        "colab": {
          "base_uri": "https://localhost:8080/"
        },
        "id": "qXuXKVzbwzfl",
        "outputId": "73b841b5-8be7-4079-9662-8eef2fbe3eaa"
      },
      "execution_count": null,
      "outputs": [
        {
          "output_type": "stream",
          "name": "stdout",
          "text": [
            "Refusal Message: Lo siento, no puedo ayudar con esa solicitud.\n"
          ]
        }
      ]
    },
    {
      "cell_type": "code",
      "source": [
        "product_refusal"
      ],
      "metadata": {
        "id": "juuET4Bi_Lwk",
        "outputId": "6343ee9b-dd67-40f5-8ad6-ff98aff6b9bb",
        "colab": {
          "base_uri": "https://localhost:8080/"
        }
      },
      "execution_count": null,
      "outputs": [
        {
          "output_type": "execute_result",
          "data": {
            "text/plain": [
              "ParsedChatCompletionMessage[Product](content=None, refusal='Lo siento, no puedo ayudar con esa solicitud.', role='assistant', audio=None, function_call=None, tool_calls=[], parsed=None)"
            ]
          },
          "metadata": {},
          "execution_count": 84
        }
      ]
    }
  ]
}